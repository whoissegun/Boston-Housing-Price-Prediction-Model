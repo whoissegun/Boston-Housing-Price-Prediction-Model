{
  "nbformat": 4,
  "nbformat_minor": 0,
  "metadata": {
    "colab": {
      "provenance": []
    },
    "kernelspec": {
      "name": "python3",
      "display_name": "Python 3"
    },
    "language_info": {
      "name": "python"
    }
  },
  "cells": [
    {
      "cell_type": "code",
      "execution_count": 299,
      "metadata": {
        "id": "kQqF7PDk-9UO"
      },
      "outputs": [],
      "source": [
        "import pandas as pd\n",
        "import torch\n",
        "from torch import nn\n",
        "from sklearn.model_selection import train_test_split\n",
        "import matplotlib.pyplot as plt\n"
      ]
    },
    {
      "cell_type": "code",
      "source": [
        "df = pd.read_csv(\"Housing.csv\")\n"
      ],
      "metadata": {
        "id": "1HEZ8VOX_San"
      },
      "execution_count": 300,
      "outputs": []
    },
    {
      "cell_type": "code",
      "source": [
        "nan_rows = df[df.isna().any(axis=1)]\n",
        "\n",
        "df = df.dropna()\n",
        "\n",
        "X = df.drop('MEDV',axis =1)\n",
        "y = df['MEDV']\n",
        "\n"
      ],
      "metadata": {
        "id": "hsSw_TqA_geC"
      },
      "execution_count": 301,
      "outputs": []
    },
    {
      "cell_type": "code",
      "source": [
        "X_train,X_test,Y_train,Y_test = train_test_split(X,y,test_size=0.2,random_state=42)\n"
      ],
      "metadata": {
        "id": "cQjh04dLCA_R"
      },
      "execution_count": 302,
      "outputs": []
    },
    {
      "cell_type": "code",
      "source": [
        "from sklearn.preprocessing import StandardScaler\n",
        "\n",
        "scaler = StandardScaler()\n",
        "\n",
        "X_train = scaler.fit_transform(X_train)\n",
        "X_test = scaler.transform(X_test)\n",
        "\n"
      ],
      "metadata": {
        "id": "YnxegR9FCd9z"
      },
      "execution_count": 303,
      "outputs": []
    },
    {
      "cell_type": "code",
      "source": [
        "X_train = torch.tensor(X_train,dtype=torch.float)\n",
        "X_test = torch.tensor(X_test,dtype=torch.float)\n",
        "Y_train = torch.tensor(Y_train.values,dtype=torch.float)\n",
        "Y_test = torch.tensor(Y_test.values,dtype=torch.float)\n",
        "\n",
        "\n"
      ],
      "metadata": {
        "id": "rFF1Sna0DudF"
      },
      "execution_count": 304,
      "outputs": []
    },
    {
      "cell_type": "code",
      "source": [
        "class PricePredictionModel(nn.Module):\n",
        "  def __init__(self):\n",
        "    super().__init__()\n",
        "    self.layer_1 = nn.Linear(in_features=13,out_features=26)\n",
        "    self.layer_2 = nn.Linear(in_features=26,out_features=26)\n",
        "    self.layer_3 = nn.Linear(in_features=26,out_features=1)\n",
        "    self.activation = nn.ReLU()\n",
        "    \n",
        "\n",
        "  def forward(self,X):\n",
        "      X = self.layer_1(X)\n",
        "      X = self.activation(X)\n",
        "      X = self.layer_2(X)\n",
        "      X = self.activation(X)\n",
        "      X = self.layer_3(X)\n",
        "      \n",
        "      return X.squeeze()\n",
        "\n",
        "\n",
        "model0 = PricePredictionModel()"
      ],
      "metadata": {
        "id": "ofrfvrUOMRSK"
      },
      "execution_count": 305,
      "outputs": []
    },
    {
      "cell_type": "code",
      "source": [
        "loss_fn = nn.MSELoss()\n",
        "optimizer  = torch.optim.Adam(params = model0.parameters(),lr=0.001)\n"
      ],
      "metadata": {
        "id": "wPIaIZGcPF9s"
      },
      "execution_count": 306,
      "outputs": []
    },
    {
      "cell_type": "code",
      "source": [
        "import copy\n",
        "epochs = 5000\n",
        "patience = 2\n",
        "best_test_loss = float('inf')\n",
        "epochs_without_improvement = 0\n",
        "best_model_weights = None\n",
        "\n",
        "for epoch in range(epochs):\n",
        "  model0.train()\n",
        "  Y_preds = model0(X_train)\n",
        "  loss = loss_fn(Y_preds,Y_train)    \n",
        "  optimizer.zero_grad()\n",
        "  loss.backward()\n",
        "  optimizer.step()\n",
        "\n",
        "  if epoch % 200 == 0:\n",
        "      model0.eval()\n",
        "      with torch.inference_mode():\n",
        "        Y_test_preds = model0(X_test)\n",
        "        test_loss = loss_fn(Y_test_preds,Y_test)\n",
        "        if test_loss < best_test_loss:\n",
        "          best_test_loss = test_loss\n",
        "          best_model_weights = copy.deepcopy(model0.state_dict())\n",
        "          epochs_without_improvement = 0\n",
        "        \n",
        "        else:\n",
        "          epochs_without_improvement += 1\n",
        "\n",
        "        if epochs_without_improvement >= patience:\n",
        "            print(f\"Early stopping at epoch {epoch}. Best validation loss: {best_test_loss}.\")\n",
        "            break\n",
        "\n",
        "        print(test_loss, loss)\n",
        "model0.load_state_dict(best_model_weights)\n"
      ],
      "metadata": {
        "colab": {
          "base_uri": "https://localhost:8080/"
        },
        "id": "zm67i7kwORve",
        "outputId": "cb2e9fa8-99ae-4e94-c081-a5bdc71a220d"
      },
      "execution_count": 312,
      "outputs": [
        {
          "output_type": "stream",
          "name": "stdout",
          "text": [
            "tensor(11.6365) tensor(1.0571, grad_fn=<MseLossBackward0>)\n",
            "tensor(11.6367) tensor(0.9486, grad_fn=<MseLossBackward0>)\n",
            "Early stopping at epoch 400. Best validation loss: 11.636452674865723.\n"
          ]
        },
        {
          "output_type": "execute_result",
          "data": {
            "text/plain": [
              "<All keys matched successfully>"
            ]
          },
          "metadata": {},
          "execution_count": 312
        }
      ]
    },
    {
      "cell_type": "code",
      "source": [
        "torch.save(model0.state_dict(),'BostonPricePredictionModel.pth')"
      ],
      "metadata": {
        "id": "tSeKvM57piNO"
      },
      "execution_count": 313,
      "outputs": []
    }
  ]
}